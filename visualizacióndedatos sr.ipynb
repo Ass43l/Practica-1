{
 "cells": [
  {
   "cell_type": "markdown",
   "id": "1cad21dd-31e9-4c99-8794-8afd9cd0a553",
   "metadata": {},
   "source": [
    "# Visualización de datos "
   ]
  },
  {
   "cell_type": "code",
   "execution_count": 37,
   "id": "fba424e7-857f-40d7-a937-fa842560e3c9",
   "metadata": {},
   "outputs": [
    {
     "name": "stderr",
     "output_type": "stream",
     "text": [
      "Warning message:\n",
      "\"package 'gganimate' is in use and will not be installed\"\n",
      "Warning message:\n",
      "\"package 'plotly' is in use and will not be installed\"\n",
      "Warning message:\n",
      "\"package 'gifski' is in use and will not be installed\"\n",
      "Warning message:\n",
      "\"package 'RColorBrewer' is in use and will not be installed\"\n",
      "Warning message:\n",
      "\"package 'wesanderson' is in use and will not be installed\"\n"
     ]
    }
   ],
   "source": [
    "#install.packages(\"tidyverse\")\n",
    "install.packages(\"gganimate\")\n",
    "install.packages(\"plotly\")\n",
    "install.packages(\"gifski\")\n",
    "install.packages(\"RColorBrewer\")\n",
    "install.packages(\"wesanderson\")\n",
    "library(gifski)\n",
    "library(tidyverse)\n",
    "library(gganimate)\n",
    "library(plotly)\n",
    "library(RColorBrewer)\n",
    "library(wesanderson)\n"
   ]
  },
  {
   "cell_type": "code",
   "execution_count": 36,
   "id": "7d890e34-1964-401c-b046-2415a028c6c6",
   "metadata": {},
   "outputs": [
    {
     "name": "stdout",
     "output_type": "stream",
     "text": [
      "'data.frame':\t28149 obs. of  10 variables:\n",
      " $ cve_ent    : int  1 2 3 4 7 8 9 5 6 10 ...\n",
      " $ poblacion  : int  1434635 3634868 804708 1000617 5730367 3801487 9018645 3218720 785153 1868996 ...\n",
      " $ nombre     : chr  \"AGUASCALIENTES\" \"BAJA CALIFORNIA\" \"BAJA CALIFORNIA SUR\" \"CAMPECHE\" ...\n",
      " $ dias       : chr  \"26/02/2020\" \"26/02/2020\" \"26/02/2020\" \"26/02/2020\" ...\n",
      " $ dia        : chr  \"26\" \"26\" \"26\" \"26\" ...\n",
      " $ mes        : chr  \"02\" \"02\" \"02\" \"02\" ...\n",
      " $ año        : chr  \"2020\" \"2020\" \"2020\" \"2020\" ...\n",
      " $ infectados : int  0 0 0 0 0 0 0 0 0 0 ...\n",
      " $ mest_txt   : Factor w/ 12 levels \"Ene\",\"Feb\",\"Mar\",..: 2 2 2 2 2 2 2 2 2 2 ...\n",
      " $ consecutivo: int  1 2 3 4 5 6 7 8 9 10 ...\n"
     ]
    },
    {
     "data": {
      "text/html": [
       "<table class=\"dataframe\">\n",
       "<caption>A data.frame: 6 × 10</caption>\n",
       "<thead>\n",
       "\t<tr><th></th><th scope=col>cve_ent</th><th scope=col>poblacion</th><th scope=col>nombre</th><th scope=col>dias</th><th scope=col>dia</th><th scope=col>mes</th><th scope=col>año</th><th scope=col>infectados</th><th scope=col>mest_txt</th><th scope=col>consecutivo</th></tr>\n",
       "\t<tr><th></th><th scope=col>&lt;int&gt;</th><th scope=col>&lt;int&gt;</th><th scope=col>&lt;chr&gt;</th><th scope=col>&lt;chr&gt;</th><th scope=col>&lt;chr&gt;</th><th scope=col>&lt;chr&gt;</th><th scope=col>&lt;chr&gt;</th><th scope=col>&lt;int&gt;</th><th scope=col>&lt;fct&gt;</th><th scope=col>&lt;int&gt;</th></tr>\n",
       "</thead>\n",
       "<tbody>\n",
       "\t<tr><th scope=row>1</th><td>1</td><td>1434635</td><td>AGUASCALIENTES     </td><td>26/02/2020</td><td>26</td><td>02</td><td>2020</td><td>0</td><td>Feb</td><td>1</td></tr>\n",
       "\t<tr><th scope=row>2</th><td>2</td><td>3634868</td><td>BAJA CALIFORNIA    </td><td>26/02/2020</td><td>26</td><td>02</td><td>2020</td><td>0</td><td>Feb</td><td>2</td></tr>\n",
       "\t<tr><th scope=row>3</th><td>3</td><td> 804708</td><td>BAJA CALIFORNIA SUR</td><td>26/02/2020</td><td>26</td><td>02</td><td>2020</td><td>0</td><td>Feb</td><td>3</td></tr>\n",
       "\t<tr><th scope=row>4</th><td>4</td><td>1000617</td><td>CAMPECHE           </td><td>26/02/2020</td><td>26</td><td>02</td><td>2020</td><td>0</td><td>Feb</td><td>4</td></tr>\n",
       "\t<tr><th scope=row>5</th><td>7</td><td>5730367</td><td>CHIAPAS            </td><td>26/02/2020</td><td>26</td><td>02</td><td>2020</td><td>0</td><td>Feb</td><td>5</td></tr>\n",
       "\t<tr><th scope=row>6</th><td>8</td><td>3801487</td><td>CHIHUAHUA          </td><td>26/02/2020</td><td>26</td><td>02</td><td>2020</td><td>0</td><td>Feb</td><td>6</td></tr>\n",
       "</tbody>\n",
       "</table>\n"
      ],
      "text/latex": [
       "A data.frame: 6 × 10\n",
       "\\begin{tabular}{r|llllllllll}\n",
       "  & cve\\_ent & poblacion & nombre & dias & dia & mes & año & infectados & mest\\_txt & consecutivo\\\\\n",
       "  & <int> & <int> & <chr> & <chr> & <chr> & <chr> & <chr> & <int> & <fct> & <int>\\\\\n",
       "\\hline\n",
       "\t1 & 1 & 1434635 & AGUASCALIENTES      & 26/02/2020 & 26 & 02 & 2020 & 0 & Feb & 1\\\\\n",
       "\t2 & 2 & 3634868 & BAJA CALIFORNIA     & 26/02/2020 & 26 & 02 & 2020 & 0 & Feb & 2\\\\\n",
       "\t3 & 3 &  804708 & BAJA CALIFORNIA SUR & 26/02/2020 & 26 & 02 & 2020 & 0 & Feb & 3\\\\\n",
       "\t4 & 4 & 1000617 & CAMPECHE            & 26/02/2020 & 26 & 02 & 2020 & 0 & Feb & 4\\\\\n",
       "\t5 & 7 & 5730367 & CHIAPAS             & 26/02/2020 & 26 & 02 & 2020 & 0 & Feb & 5\\\\\n",
       "\t6 & 8 & 3801487 & CHIHUAHUA           & 26/02/2020 & 26 & 02 & 2020 & 0 & Feb & 6\\\\\n",
       "\\end{tabular}\n"
      ],
      "text/markdown": [
       "\n",
       "A data.frame: 6 × 10\n",
       "\n",
       "| <!--/--> | cve_ent &lt;int&gt; | poblacion &lt;int&gt; | nombre &lt;chr&gt; | dias &lt;chr&gt; | dia &lt;chr&gt; | mes &lt;chr&gt; | año &lt;chr&gt; | infectados &lt;int&gt; | mest_txt &lt;fct&gt; | consecutivo &lt;int&gt; |\n",
       "|---|---|---|---|---|---|---|---|---|---|---|\n",
       "| 1 | 1 | 1434635 | AGUASCALIENTES      | 26/02/2020 | 26 | 02 | 2020 | 0 | Feb | 1 |\n",
       "| 2 | 2 | 3634868 | BAJA CALIFORNIA     | 26/02/2020 | 26 | 02 | 2020 | 0 | Feb | 2 |\n",
       "| 3 | 3 |  804708 | BAJA CALIFORNIA SUR | 26/02/2020 | 26 | 02 | 2020 | 0 | Feb | 3 |\n",
       "| 4 | 4 | 1000617 | CAMPECHE            | 26/02/2020 | 26 | 02 | 2020 | 0 | Feb | 4 |\n",
       "| 5 | 7 | 5730367 | CHIAPAS             | 26/02/2020 | 26 | 02 | 2020 | 0 | Feb | 5 |\n",
       "| 6 | 8 | 3801487 | CHIHUAHUA           | 26/02/2020 | 26 | 02 | 2020 | 0 | Feb | 6 |\n",
       "\n"
      ],
      "text/plain": [
       "  cve_ent poblacion nombre              dias       dia mes año  infectados\n",
       "1 1       1434635   AGUASCALIENTES      26/02/2020 26  02  2020 0         \n",
       "2 2       3634868   BAJA CALIFORNIA     26/02/2020 26  02  2020 0         \n",
       "3 3        804708   BAJA CALIFORNIA SUR 26/02/2020 26  02  2020 0         \n",
       "4 4       1000617   CAMPECHE            26/02/2020 26  02  2020 0         \n",
       "5 7       5730367   CHIAPAS             26/02/2020 26  02  2020 0         \n",
       "6 8       3801487   CHIHUAHUA           26/02/2020 26  02  2020 0         \n",
       "  mest_txt consecutivo\n",
       "1 Feb      1          \n",
       "2 Feb      2          \n",
       "3 Feb      3          \n",
       "4 Feb      4          \n",
       "5 Feb      5          \n",
       "6 Feb      6          "
      ]
     },
     "metadata": {},
     "output_type": "display_data"
    }
   ],
   "source": [
    "# codigo limpieza y manipulación \n",
    "casos_diarios <-  read.csv(file = \"Casos_Diarios_Estado_Nacional.csv\")\n",
    "casos_diario_list <- gather(casos_diarios,key =\"dias\",value=\"infectados\",4:856)\n",
    "\n",
    "normalizarfecha <- function(fecha){\n",
    "return(str_replace_all(fecha,\"X\",\"\")  %>% str_replace_all(\"\\\\.\",\"/\"))\n",
    "}\n",
    "\n",
    "cod_Meses <- function(x) {\n",
    "\n",
    "labels_meses <- c(\n",
    "    \"Ene\",\"Feb\",\"Mar\",\"Abr\",\"May\",\"Jun\",\n",
    "    \"Jul\",\"Ago\",\"Sep\",\"Oct\",\"Nov\",\"Dic\")\n",
    "\n",
    "    return(factor(x,levels = (1:12),labels = labels_meses))\n",
    "    \n",
    "    }\n",
    "\n",
    "fecha = map(casos_diario_list[4],normalizarfecha)\n",
    "casos_diarios_fecha <- cbind(casos_diario_list[c(TRUE,TRUE,TRUE,FALSE,TRUE)],fecha)\n",
    "casos_diarios_fecha <- casos_diarios_fecha[c(1,2,3,5,4)]\n",
    "\n",
    "datos <- separate( data = casos_diarios_fecha,\n",
    "                   col =dias,\n",
    "                   into = c(\"dia\",\"mes\",\"año\"),\n",
    "                   sep = '/',\n",
    "                   remove = FALSE)\n",
    "\n",
    "\n",
    "datos<-datos%>%mutate(mest_txt=cod_Meses(as.integer(mes)))%>%mutate(consecutivo=1:28149)\n",
    "str(datos)\n",
    "head(datos)"
   ]
  },
  {
   "cell_type": "markdown",
   "id": "3e416875-1241-4803-8cf9-89eb1a7f0fa2",
   "metadata": {},
   "source": [
    "## plot básico"
   ]
  },
  {
   "cell_type": "code",
   "execution_count": 19,
   "id": "87f9b842-6d57-4018-873e-544c98b2dfce",
   "metadata": {},
   "outputs": [
    {
     "data": {
      "image/png": "[encoded data removed]",
      "text/plain": [
       "plot without title"
      ]
     },
     "metadata": {
      "image/png": {
       "height": 420,
       "width": 420
      }
     },
     "output_type": "display_data"
    }
   ],
   "source": [
    "\n",
    "\n",
    "\n",
    "datos%>%ggplot(aes(x=as.Date(dias,\"%d/%m/%Y\"),y=infectados))+\n",
    "        geom_point()\n"
   ]
  },
  {
   "cell_type": "markdown",
   "id": "5ad8e2c5-fcde-4fd7-97d3-a9d5b7f9d0e5",
   "metadata": {},
   "source": [
    "## Añadiendo gráficas y filtrado"
   ]
  },
  {
   "cell_type": "code",
   "execution_count": 9,
   "id": "16499468-4cc7-47b5-a2a9-901293fe7b2d",
   "metadata": {},
   "outputs": [
    {
     "data": {
      "image/png": "[encoded data removed]",
      "text/plain": [
       "plot without title"
      ]
     },
     "metadata": {
      "image/png": {
       "height": 420,
       "width": 420
      }
     },
     "output_type": "display_data"
    }
   ],
   "source": [
    "datos%>% filter(nombre==\"Nacional\")%>%\n",
    "        ggplot(aes(x=as.Date(dias,\"%d/%m/%Y\"),y=infectados))+\n",
    "        geom_point()+\n",
    "        geom_line()"
   ]
  },
  {
   "cell_type": "code",
   "execution_count": 20,
   "id": "09084ed0-bde6-44d9-93be-bd1eb7c9c8ba",
   "metadata": {},
   "outputs": [
    {
     "name": "stderr",
     "output_type": "stream",
     "text": [
      "`geom_smooth()` using formula 'y ~ s(x, bs = \"cs\")'\n",
      "\n"
     ]
    },
    {
     "data": {
      "image/png": "[encoded data removed]",
      "text/plain": [
       "plot without title"
      ]
     },
     "metadata": {
      "image/png": {
       "height": 420,
       "width": 420
      }
     },
     "output_type": "display_data"
    }
   ],
   "source": [
    "datos%>% filter(nombre==\"Nacional\")%>%\n",
    "        ggplot(aes(x=as.Date(dias,\"%d/%m/%Y\"),y=infectados))+\n",
    "        geom_point()+geom_line()+\n",
    "        stat_smooth(method=\"gam\",aes(x=as.Date(dias,\"%d/%m/%Y\"),y=infectados))"
   ]
  },
  {
   "cell_type": "markdown",
   "id": "849ea5ad-7a34-40e2-87e7-66007c4ba9fb",
   "metadata": {},
   "source": [
    "## limitar los ejes e incluir un or en el filter"
   ]
  },
  {
   "cell_type": "code",
   "execution_count": 21,
   "id": "8e6a4770-54b9-4f79-a4ab-368be264f019",
   "metadata": {},
   "outputs": [
    {
     "name": "stderr",
     "output_type": "stream",
     "text": [
      "`geom_smooth()` using formula 'y ~ s(x, bs = \"cs\")'\n",
      "\n"
     ]
    },
    {
     "data": {
      "image/png": "[encoded data removed]",
      "text/plain": [
       "plot without title"
      ]
     },
     "metadata": {
      "image/png": {
       "height": 420,
       "width": 420
      }
     },
     "output_type": "display_data"
    }
   ],
   "source": [
    "datos%>% filter(nombre==\"Nacional\")%>%filter(año==\"2020\" || año==\"2021\")%>%\n",
    "        ggplot(aes(x=as.Date(dias,\"%d/%m/%Y\"),y=infectados))+\n",
    "        geom_point()+geom_line()+\n",
    "        stat_smooth(method=\"gam\",aes(x=as.Date(dias,\"%d/%m/%Y\"),y=infectados))+\n",
    "        coord_cartesian(xlim=c(as.Date(\"01/12/2020\",\"%d/%m/%Y\"),as.Date(\"01/02/2021\",\"%d/%m/%Y\")))"
   ]
  },
  {
   "cell_type": "markdown",
   "id": "12eed3b7-3777-41fd-af20-2fa6070c0fae",
   "metadata": {},
   "source": [
    "## Añadir series y modificar estructura de datos"
   ]
  },
  {
   "cell_type": "code",
   "execution_count": 27,
   "id": "a0732e83-ba13-4757-b970-0e8744969db2",
   "metadata": {},
   "outputs": [
    {
     "name": "stdout",
     "output_type": "stream",
     "text": [
      "'data.frame':\t28149 obs. of  10 variables:\n",
      " $ cve_ent    : int  1 2 3 4 7 8 9 5 6 10 ...\n",
      " $ poblacion  : int  1434635 3634868 804708 1000617 5730367 3801487 9018645 3218720 785153 1868996 ...\n",
      " $ nombre     : chr  \"AGUASCALIENTES\" \"BAJA CALIFORNIA\" \"BAJA CALIFORNIA SUR\" \"CAMPECHE\" ...\n",
      " $ dias       : Date, format: \"2020-02-26\" \"2020-02-26\" ...\n",
      " $ dia        : chr  \"26\" \"26\" \"26\" \"26\" ...\n",
      " $ mes        : chr  \"02\" \"02\" \"02\" \"02\" ...\n",
      " $ año        : chr  \"2020\" \"2020\" \"2020\" \"2020\" ...\n",
      " $ infectados : int  0 0 0 0 0 0 0 0 0 0 ...\n",
      " $ mest_txt   : Factor w/ 12 levels \"Ene\",\"Feb\",\"Mar\",..: 2 2 2 2 2 2 2 2 2 2 ...\n",
      " $ consecutivo: int  1 2 3 4 5 6 7 8 9 10 ...\n"
     ]
    },
    {
     "data": {
      "text/html": [
       "<style>\n",
       ".list-inline {list-style: none; margin:0; padding: 0}\n",
       ".list-inline>li {display: inline-block}\n",
       ".list-inline>li:not(:last-child)::after {content: \"\\00b7\"; padding: 0 .5ex}\n",
       "</style>\n",
       "<ol class=list-inline><li>'AGUASCALIENTES'</li><li>'BAJA CALIFORNIA'</li><li>'BAJA CALIFORNIA SUR'</li><li>'CAMPECHE'</li><li>'CHIAPAS'</li><li>'CHIHUAHUA'</li><li>'DISTRITO FEDERAL'</li><li>'COAHUILA'</li><li>'COLIMA'</li><li>'DURANGO'</li><li>'GUANAJUATO'</li><li>'GUERRERO'</li><li>'HIDALGO'</li><li>'JALISCO'</li><li>'MEXICO'</li><li>'MICHOACAN'</li><li>'MORELOS'</li><li>'NAYARIT'</li><li>'NUEVO LEON'</li><li>'OAXACA'</li><li>'PUEBLA'</li><li>'QUERETARO'</li><li>'QUINTANA ROO'</li><li>'SAN LUIS POTOSI'</li><li>'SINALOA'</li><li>'SONORA'</li><li>'TABASCO'</li><li>'TAMAULIPAS'</li><li>'TLAXCALA'</li><li>'VERACRUZ'</li><li>'YUCATAN'</li><li>'ZACATECAS'</li><li>'Nacional'</li></ol>\n"
      ],
      "text/latex": [
       "\\begin{enumerate*}\n",
       "\\item 'AGUASCALIENTES'\n",
       "\\item 'BAJA CALIFORNIA'\n",
       "\\item 'BAJA CALIFORNIA SUR'\n",
       "\\item 'CAMPECHE'\n",
       "\\item 'CHIAPAS'\n",
       "\\item 'CHIHUAHUA'\n",
       "\\item 'DISTRITO FEDERAL'\n",
       "\\item 'COAHUILA'\n",
       "\\item 'COLIMA'\n",
       "\\item 'DURANGO'\n",
       "\\item 'GUANAJUATO'\n",
       "\\item 'GUERRERO'\n",
       "\\item 'HIDALGO'\n",
       "\\item 'JALISCO'\n",
       "\\item 'MEXICO'\n",
       "\\item 'MICHOACAN'\n",
       "\\item 'MORELOS'\n",
       "\\item 'NAYARIT'\n",
       "\\item 'NUEVO LEON'\n",
       "\\item 'OAXACA'\n",
       "\\item 'PUEBLA'\n",
       "\\item 'QUERETARO'\n",
       "\\item 'QUINTANA ROO'\n",
       "\\item 'SAN LUIS POTOSI'\n",
       "\\item 'SINALOA'\n",
       "\\item 'SONORA'\n",
       "\\item 'TABASCO'\n",
       "\\item 'TAMAULIPAS'\n",
       "\\item 'TLAXCALA'\n",
       "\\item 'VERACRUZ'\n",
       "\\item 'YUCATAN'\n",
       "\\item 'ZACATECAS'\n",
       "\\item 'Nacional'\n",
       "\\end{enumerate*}\n"
      ],
      "text/markdown": [
       "1. 'AGUASCALIENTES'\n",
       "2. 'BAJA CALIFORNIA'\n",
       "3. 'BAJA CALIFORNIA SUR'\n",
       "4. 'CAMPECHE'\n",
       "5. 'CHIAPAS'\n",
       "6. 'CHIHUAHUA'\n",
       "7. 'DISTRITO FEDERAL'\n",
       "8. 'COAHUILA'\n",
       "9. 'COLIMA'\n",
       "10. 'DURANGO'\n",
       "11. 'GUANAJUATO'\n",
       "12. 'GUERRERO'\n",
       "13. 'HIDALGO'\n",
       "14. 'JALISCO'\n",
       "15. 'MEXICO'\n",
       "16. 'MICHOACAN'\n",
       "17. 'MORELOS'\n",
       "18. 'NAYARIT'\n",
       "19. 'NUEVO LEON'\n",
       "20. 'OAXACA'\n",
       "21. 'PUEBLA'\n",
       "22. 'QUERETARO'\n",
       "23. 'QUINTANA ROO'\n",
       "24. 'SAN LUIS POTOSI'\n",
       "25. 'SINALOA'\n",
       "26. 'SONORA'\n",
       "27. 'TABASCO'\n",
       "28. 'TAMAULIPAS'\n",
       "29. 'TLAXCALA'\n",
       "30. 'VERACRUZ'\n",
       "31. 'YUCATAN'\n",
       "32. 'ZACATECAS'\n",
       "33. 'Nacional'\n",
       "\n",
       "\n"
      ],
      "text/plain": [
       " [1] \"AGUASCALIENTES\"      \"BAJA CALIFORNIA\"     \"BAJA CALIFORNIA SUR\"\n",
       " [4] \"CAMPECHE\"            \"CHIAPAS\"             \"CHIHUAHUA\"          \n",
       " [7] \"DISTRITO FEDERAL\"    \"COAHUILA\"            \"COLIMA\"             \n",
       "[10] \"DURANGO\"             \"GUANAJUATO\"          \"GUERRERO\"           \n",
       "[13] \"HIDALGO\"             \"JALISCO\"             \"MEXICO\"             \n",
       "[16] \"MICHOACAN\"           \"MORELOS\"             \"NAYARIT\"            \n",
       "[19] \"NUEVO LEON\"          \"OAXACA\"              \"PUEBLA\"             \n",
       "[22] \"QUERETARO\"           \"QUINTANA ROO\"        \"SAN LUIS POTOSI\"    \n",
       "[25] \"SINALOA\"             \"SONORA\"              \"TABASCO\"            \n",
       "[28] \"TAMAULIPAS\"          \"TLAXCALA\"            \"VERACRUZ\"           \n",
       "[31] \"YUCATAN\"             \"ZACATECAS\"           \"Nacional\"           "
      ]
     },
     "metadata": {},
     "output_type": "display_data"
    }
   ],
   "source": [
    "datos<-datos%>%transform(dias=as.Date(dias,\"%d/%m/%Y\"))\n",
    "str(datos)\n",
    "unique(datos$nombre)"
   ]
  },
  {
   "cell_type": "code",
   "execution_count": 26,
   "id": "4830779c-bbcf-463e-a8be-a969c93484cb",
   "metadata": {},
   "outputs": [
    {
     "data": {
      "image/png": "[encoded data removed]",
      "text/plain": [
       "plot without title"
      ]
     },
     "metadata": {
      "image/png": {
       "height": 420,
       "width": 420
      }
     },
     "output_type": "display_data"
    }
   ],
   "source": [
    "datos%>% filter(nombre%in%c(\"Nacional\",\"DURANGO\",\"DISTRITO FEDERAL\"))%>%filter(año%in%c(\"2020\",\"2021\"))%>%\n",
    "        ggplot(aes(x=dias,y=infectados,group=nombre,color=nombre))+\n",
    "        geom_point(fill=\"#A4A4A4\",color=\"darkred\")+geom_line()#+\n",
    "#        stat_smooth(method=\"gam\",aes(x=as.Date(dias,\"%d/%m/%Y\"),y=infectados))+\n",
    "#        coord_cartesian(xlim=c(as.Date(\"01/12/2020\",\"%d/%m/%Y\"),as.Date(\"01/02/2021\",\"%d/%m/%Y\")))"
   ]
  },
  {
   "cell_type": "markdown",
   "id": "624cb9cc-164d-4969-aedb-5acc6ac3a2d5",
   "metadata": {},
   "source": [
    "## Animar"
   ]
  },
  {
   "cell_type": "code",
   "execution_count": 34,
   "id": "894f0eab-34da-4e2f-82b4-c56f0e007ccd",
   "metadata": {},
   "outputs": [
    {
     "name": "stderr",
     "output_type": "stream",
     "text": [
      "\n",
      "Rendering [>-------------------------------------------] at 9.3 fps ~ eta: 10s\n",
      "\n",
      "Rendering [>-------------------------------------------] at 8.4 fps ~ eta: 12s\n",
      "\n",
      "Rendering [=>------------------------------------------] at 8.2 fps ~ eta: 12s\n",
      "\n",
      "Rendering [=>------------------------------------------] at 8.1 fps ~ eta: 12s\n",
      "\n",
      "Rendering [==>-------------------------------------------] at 8 fps ~ eta: 12s\n",
      "\n",
      "Rendering [===>------------------------------------------] at 8 fps ~ eta: 12s\n",
      "\n",
      "Rendering [===>----------------------------------------] at 7.9 fps ~ eta: 11s\n",
      "\n",
      "Rendering [===>----------------------------------------] at 7.8 fps ~ eta: 11s\n",
      "\n",
      "Rendering [====>---------------------------------------] at 7.8 fps ~ eta: 11s\n",
      "\n",
      "Rendering [=====>--------------------------------------] at 7.7 fps ~ eta: 11s\n",
      "\n",
      "Rendering [======>-------------------------------------] at 7.7 fps ~ eta: 11s\n",
      "\n",
      "Rendering [=======>------------------------------------] at 7.7 fps ~ eta: 11s\n",
      "\n",
      "Rendering [=======>------------------------------------] at 7.7 fps ~ eta: 10s\n",
      "\n",
      "Rendering [========>-----------------------------------] at 7.7 fps ~ eta: 10s\n",
      "\n",
      "Rendering [=========>----------------------------------] at 7.6 fps ~ eta: 10s\n",
      "\n",
      "Rendering [==========>---------------------------------] at 7.6 fps ~ eta: 10s\n",
      "\n",
      "Rendering [===========>--------------------------------] at 7.6 fps ~ eta: 10s\n",
      "\n",
      "Rendering [===========>--------------------------------] at 7.6 fps ~ eta:  9s\n",
      "\n",
      "Rendering [============>-------------------------------] at 7.6 fps ~ eta:  9s\n",
      "\n",
      "Rendering [=============>------------------------------] at 7.6 fps ~ eta:  9s\n",
      "\n",
      "Rendering [=============>------------------------------] at 7.5 fps ~ eta:  9s\n",
      "\n",
      "Rendering [==============>-----------------------------] at 7.5 fps ~ eta:  9s\n",
      "\n",
      "Rendering [===============>----------------------------] at 7.5 fps ~ eta:  9s\n",
      "\n",
      "Rendering [===============>----------------------------] at 7.5 fps ~ eta:  8s\n",
      "\n",
      "Rendering [================>---------------------------] at 7.5 fps ~ eta:  8s\n",
      "\n",
      "Rendering [=================>--------------------------] at 7.5 fps ~ eta:  8s\n",
      "\n",
      "Rendering [==================>-------------------------] at 7.5 fps ~ eta:  8s\n",
      "\n",
      "Rendering [==================>-------------------------] at 7.5 fps ~ eta:  7s\n",
      "\n",
      "Rendering [===================>------------------------] at 7.5 fps ~ eta:  7s\n",
      "\n",
      "Rendering [====================>-----------------------] at 7.4 fps ~ eta:  7s\n",
      "\n",
      "Rendering [=====================>----------------------] at 7.4 fps ~ eta:  7s\n",
      "\n",
      "Rendering [======================>---------------------] at 7.4 fps ~ eta:  6s\n",
      "\n",
      "Rendering [=======================>--------------------] at 7.4 fps ~ eta:  6s\n",
      "\n",
      "Rendering [========================>-------------------] at 7.4 fps ~ eta:  6s\n",
      "\n",
      "Rendering [=========================>------------------] at 7.4 fps ~ eta:  6s\n",
      "\n",
      "Rendering [=========================>------------------] at 7.4 fps ~ eta:  5s\n",
      "\n",
      "Rendering [==========================>-----------------] at 7.4 fps ~ eta:  5s\n",
      "\n",
      "Rendering [===========================>----------------] at 7.4 fps ~ eta:  5s\n",
      "\n",
      "Rendering [============================>---------------] at 7.3 fps ~ eta:  5s\n",
      "\n",
      "Rendering [=============================>--------------] at 7.3 fps ~ eta:  4s\n",
      "\n",
      "Rendering [==============================>-------------] at 7.3 fps ~ eta:  4s\n",
      "\n",
      "Rendering [===============================>------------] at 7.3 fps ~ eta:  4s\n",
      "\n",
      "Rendering [================================>-----------] at 7.3 fps ~ eta:  4s\n",
      "\n",
      "Rendering [================================>-----------] at 7.3 fps ~ eta:  3s\n",
      "\n",
      "Rendering [=================================>----------] at 7.3 fps ~ eta:  3s\n",
      "\n",
      "Rendering [==================================>---------] at 7.3 fps ~ eta:  3s\n",
      "\n",
      "Rendering [===================================>--------] at 7.3 fps ~ eta:  3s\n",
      "\n",
      "Rendering [===================================>--------] at 7.2 fps ~ eta:  2s\n",
      "\n",
      "Rendering [====================================>-------] at 7.2 fps ~ eta:  2s\n",
      "\n",
      "Rendering [=====================================>------] at 7.2 fps ~ eta:  2s\n",
      "\n",
      "Rendering [======================================>-----] at 7.2 fps ~ eta:  2s\n",
      "\n",
      "Rendering [=======================================>----] at 7.2 fps ~ eta:  1s\n",
      "\n",
      "Rendering [========================================>---] at 7.2 fps ~ eta:  1s\n",
      "\n",
      "Rendering [=========================================>--] at 7.2 fps ~ eta:  1s\n",
      "\n",
      "Rendering [==========================================>-] at 7.2 fps ~ eta:  0s\n",
      "\n",
      "Rendering [===========================================>] at 7.2 fps ~ eta:  0s\n",
      "\n",
      "Rendering [============================================] at 7.2 fps ~ eta:  0s\n",
      "                                                                              \n",
      "\n"
     ]
    }
   ],
   "source": [
    "p1<- datos%>% filter(nombre%in%c(\"Nacional\",\"DURANGO\",\"DISTRITO FEDERAL\"))%>%filter(año%in%c(\"2020\",\"2021\"))%>%\n",
    "        ggplot(aes(x=dias,y=infectados,group=nombre,color=nombre))+\n",
    "        geom_point(fill=\"#A4A4A4\",color=\"darkred\")+geom_line()+\n",
    "#        stat_smooth(method=\"gam\",aes(x=as.Date(dias,\"%d/%m/%Y\"),y=infectados))+\n",
    "        coord_cartesian(xlim=c(as.Date(\"01/12/2020\",\"%d/%m/%Y\"),as.Date(\"01/02/2021\",\"%d/%m/%Y\")))+\n",
    "        transition_reveal(dias)\n",
    "\n",
    "\n",
    "mi_gift<-animate(p1,width=1600,height=800,render=gifski_renderer(loop=TRUE))\n",
    "anim_save(filename=\"animacion.gif\")"
   ]
  },
  {
   "cell_type": "markdown",
   "id": "4d6f0e48-e3d5-4672-a948-032f2461f69b",
   "metadata": {},
   "source": [
    "<img src=\"animacion.gif\" height=\"100\">"
   ]
  },
  {
   "cell_type": "code",
   "execution_count": null,
   "id": "44c9f1b3-40ef-4203-9d6e-4be9f792221d",
   "metadata": {},
   "outputs": [],
   "source": []
  }
 ],
 "metadata": {
  "kernelspec": {
   "display_name": "R",
   "language": "R",
   "name": "ir"
  },
  "language_info": {
   "codemirror_mode": "r",
   "file_extension": ".r",
   "mimetype": "text/x-r-source",
   "name": "R",
   "pygments_lexer": "r",
   "version": "4.0.5"
  }
 },
 "nbformat": 4,
 "nbformat_minor": 5
}
