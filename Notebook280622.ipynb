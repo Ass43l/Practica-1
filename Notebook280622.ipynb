{
 "cells": [
  {
   "cell_type": "markdown",
   "id": "c0f49dd7-d907-4fbe-a1ef-5337c7dcbd21",
   "metadata": {},
   "source": [
    "# Ejemplo\n",
    "_texto_ <br>\n",
    "texto <br>\n",
    "**texto**<br>\n",
    "_**texto**_ <br>\n",
    "__texto__\n",
    "> **cita** <br>\n",
    "texto\n",
    "\n",
    "\n",
    "texto <br>\n",
    "\n",
    "* signo > <br>\n",
    "* signo - <br>"
   ]
  },
  {
   "cell_type": "markdown",
   "id": "3110ed8e-c8d6-4ed9-893f-80951622aebb",
   "metadata": {},
   "source": []
  },
  {
   "cell_type": "code",
   "execution_count": null,
   "id": "6645ad79-1dc5-4512-8aa8-8dfe8283f7ad",
   "metadata": {},
   "outputs": [],
   "source": []
  }
 ],
 "metadata": {
  "kernelspec": {
   "display_name": "R",
   "language": "R",
   "name": "ir"
  },
  "language_info": {
   "codemirror_mode": "r",
   "file_extension": ".r",
   "mimetype": "text/x-r-source",
   "name": "R",
   "pygments_lexer": "r",
   "version": "4.0.5"
  }
 },
 "nbformat": 4,
 "nbformat_minor": 5
}
